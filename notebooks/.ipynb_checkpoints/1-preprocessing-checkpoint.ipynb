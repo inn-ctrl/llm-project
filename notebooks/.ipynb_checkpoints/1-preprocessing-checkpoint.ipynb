{
 "cells": [
  {
   "cell_type": "code",
   "execution_count": null,
   "metadata": {},
   "outputs": [],
   "source": [
    "from huggingface_hub import notebook_login\n",
    "notebook_login()"
   ]
  },
  {
   "cell_type": "code",
   "execution_count": null,
   "metadata": {},
   "outputs": [],
   "source": [
    "!pip install datasets"
   ]
  },
  {
   "cell_type": "code",
   "execution_count": null,
   "metadata": {},
   "outputs": [],
   "source": [
    " !apt-get install git-lfs"
   ]
  },
  {
   "cell_type": "code",
   "execution_count": null,
   "metadata": {},
   "outputs": [],
   "source": [
    "import pandas as pd\n",
    "import requests\n",
    "from datasets import load_dataset\n",
    "import string\n",
    "\n",
    "import nltk\n",
    "nltk.download('punkt')\n",
    "from nltk.stem import PorterStemmer\n",
    "\n",
    "from transformers import pipeline, tokenization_utils"
   ]
  },
  {
   "cell_type": "code",
   "execution_count": null,
   "metadata": {},
   "outputs": [],
   "source": [
    "#dataset\n",
    "ds = load_dataset('yelp_review_full')\n",
    "\n",
    "trained = ds['train']\n",
    "tested = ds['test']\n",
    "\n",
    "train_df = trained.to_pandas()\n",
    "test_df = tested.to_pandas()\n",
    "combined_df = pd.concat([train_df, test_df])\n",
    "\n",
    "#preprocessing\n",
    "def remove_punctuation(text):\n",
    "  for punctuation in string.punctuation:\n",
    "    text = text.replace(punctuation, '')\n",
    "  return text\n",
    "\n",
    "combined_df['text'] = combined_df['text'].apply(remove_punctuation)\n",
    "\n",
    "#tokenize\n",
    "combined_df['text'] = combined_df['text'].apply(nltk.word_tokenize)"
   ]
  },
  {
   "cell_type": "code",
   "execution_count": null,
   "metadata": {},
   "outputs": [],
   "source": [
    "#sample\n",
    "nltk.download('stopwords')\n",
    "combined_df_sample = combined_df.sample(n=100)\n",
    "#lowercase\n",
    "combined_df_sample['text'] = combined_df_sample['text'].apply(lambda x: [word.lower() for word in x])\n",
    "#stopwords_remove\n",
    "combined_df_sample['text'] = combined_df_sample['text'].apply(lambda x: [word for word in x if word not in nltk.corpus.stopwords.words('english')])"
   ]
  },
  {
   "cell_type": "code",
   "execution_count": null,
   "metadata": {},
   "outputs": [],
   "source": [
    "#pipelines\n",
    "classifier1 = pipeline(\n",
    "    task = 'sentiment-analysis',\n",
    "    model = 'distilbert-base-uncased',\n",
    ")\n",
    "classifier2 = pipeline(\n",
    "    task = 'sentiment-analysis',\n",
    "    model = 'aychang/roberta-base-imdb',\n",
    ")\n",
    "\n",
    "#results\n",
    "prediction_classifier1 = []\n",
    "prediction_classifier2 = []\n",
    "labels_true = []\n",
    "\n",
    "#review loop and pass text to get the sentiment and save results in lists created\n",
    "for i, review in enumerate(combined_df_sample['text']):\n",
    "  try:\n",
    "    prediction_classifier1.append(classifier1(review))\n",
    "    prediction_classifier2.append(classifier2(review))\n",
    "    labels_true.append(combined_df_sample['label'][i])\n",
    "  except:\n",
    "    continue"
   ]
  },
  {
   "cell_type": "code",
   "execution_count": null,
   "metadata": {},
   "outputs": [],
   "source": [
    "from sklearn.metrics import accuracy_score, classification_report\n",
    "#conversion. pos = 1, neg = 0\n",
    "labels_true = combined_df_sample['label'].tolist()\n",
    "labels_pred_classifier1 = [1 if prediction[0]['label'].lower()[:3] == 'pos' else 0 for prediction in prediction_classifier1]\n",
    "labels_pred_classifier2 = [1 if prediction[0]['label'].lower()[:3] == 'pos' else 0 for prediction in prediction_classifier2]\n",
    "\n",
    "#classification report\n",
    "report_classifier1 = classification_report(labels_true, labels_pred_classifier1)\n",
    "report_classifier2 = classification_report(labels_true, labels_pred_classifier2)\n",
    "\n",
    "#accuracy score\n",
    "accuracy_score1 = accuracy_score(labels_true, labels_pred_classifier1)\n",
    "accuracy_score2 = accuracy_score(labels_true, labels_pred_classifier2)"
   ]
  },
  {
   "cell_type": "code",
   "execution_count": null,
   "metadata": {},
   "outputs": [],
   "source": [
    "print(\"Model1 classification report:\")\n",
    "print(report_classifier1)\n",
    "print(\"Model2 classification report:\")\n",
    "print(report_classifier2)\n",
    "print(\"Model1 accuracy score:\",accuracy_score1)\n",
    "print(\"Model2 accuracy score:\",accuracy_score2)"
   ]
  },
  {
   "cell_type": "code",
   "execution_count": null,
   "metadata": {},
   "outputs": [],
   "source": [
    "#Sentiment Results\n",
    "\n",
    "#Classifier1: \n",
    "# total reviews\n",
    "print(f\"Total reviews classified by classifier1: {len(combined_df_sample['text'])}\")\n",
    "# positive and negative reviews \n",
    "positive_reviews = sum(labels_pred_classifier1)\n",
    "negative_reviews = len(combined_df_sample['text']) - positive_reviews\n",
    "print(f\"Positive reviews: {positive_reviews}\")\n",
    "print(f\"Negative reviews: {negative_reviews}\")\n",
    "\n",
    "#Classifier2: \n",
    "# total reviews\n",
    "print(f\"Total reviews classified by classifier2: {len(combined_df_sample['text'])}\")\n",
    "# positive and negative reviews \n",
    "positive_reviews = sum(labels_pred_classifier2)\n",
    "negative_reviews = len(combined_df_sample['text']) - positive_reviews\n",
    "print(f\"Positive reviews: {positive_reviews}\")\n",
    "print(f\"Negative reviews: {negative_reviews}\")"
   ]
  },
  {
   "cell_type": "code",
   "execution_count": null,
   "metadata": {},
   "outputs": [],
   "source": [
    "combined_df_sample.info()"
   ]
  },
  {
   "cell_type": "code",
   "execution_count": null,
   "metadata": {},
   "outputs": [],
   "source": [
    "import matplotlib.pyplot as plt\n",
    "\n",
    "# Create a new column for sentiment\n",
    "combined_df_sample['Sentiment'] = combined_df_sample['label'].apply(lambda x: 'Positive' if x == 1 else 'Negative')\n",
    "\n",
    "# Create a bar chart of the sentiment distribution\n",
    "combined_df_sample['Sentiment'].value_counts().plot(kind='bar')\n",
    "plt.title('Sentiment Distribution')\n",
    "plt.xlabel('Sentiment')\n",
    "plt.ylabel('Count')\n",
    "plt.show()"
   ]
  }
 ],
 "metadata": {
  "kernelspec": {
   "display_name": "Python 3 (ipykernel)",
   "language": "python",
   "name": "python3"
  },
  "language_info": {
   "codemirror_mode": {
    "name": "ipython",
    "version": 3
   },
   "file_extension": ".py",
   "mimetype": "text/x-python",
   "name": "python",
   "nbconvert_exporter": "python",
   "pygments_lexer": "ipython3",
   "version": "3.11.7"
  }
 },
 "nbformat": 4,
 "nbformat_minor": 4
}
